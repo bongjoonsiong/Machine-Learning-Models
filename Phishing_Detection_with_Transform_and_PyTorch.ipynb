{
  "nbformat": 4,
  "nbformat_minor": 0,
  "metadata": {
    "colab": {
      "provenance": [],
      "history_visible": true,
      "authorship_tag": "ABX9TyPVJxUOlBPQf93zTxW8O0b1",
      "include_colab_link": true
    },
    "kernelspec": {
      "name": "python3",
      "display_name": "Python 3"
    },
    "language_info": {
      "name": "python"
    }
  },
  "cells": [
    {
      "cell_type": "markdown",
      "metadata": {
        "id": "view-in-github",
        "colab_type": "text"
      },
      "source": [
        "<a href=\"https://colab.research.google.com/github/bongjoonsiong/Machine-Learning-Models/blob/main/Phishing_Detection_with_Transform_and_PyTorch.ipynb\" target=\"_parent\"><img src=\"https://colab.research.google.com/assets/colab-badge.svg\" alt=\"Open In Colab\"/></a>"
      ]
    },
    {
      "cell_type": "markdown",
      "source": [
        "## Phishing Detection Leveraging Transformer and Pytorch\n",
        "\n",
        "Phishing is a widespread technique for online identity theft and cyber attacks, posing significant risks to individuals and organizations alike. Cybercriminals typically use email, SMS, and social media platforms to execute these attacks, sending messages that contain malicious links designed to deceive recipients.\n",
        "\n",
        "These messages often impersonate trusted entities such as banks, credit card companies, or well-known businesses like Amazon and eBay. By appearing legitimate, they trick individuals into divulging their personal information. Given the increasing sophistication of these attacks, it is crucial to develop advanced methods for detecting and preventing phishing attempts.\n",
        "\n",
        "In this article, titled \"Phishing Detection Leveraging Transformer and PyTorch,\" we explore how machine learning, specifically Transformer models and the PyTorch framework, can be utilized to identify and mitigate phishing threats effectively."
      ],
      "metadata": {
        "id": "VLuZ4f1MQZeZ"
      }
    },
    {
      "cell_type": "markdown",
      "source": [
        "### Using \"Bert-base-uncased” Transformer for Text Classification"
      ],
      "metadata": {
        "id": "kjgZsZHMVrH9"
      }
    },
    {
      "cell_type": "code",
      "execution_count": null,
      "metadata": {
        "id": "mPuj0jE8QTeh"
      },
      "outputs": [],
      "source": [
        "#Install Required Tranformer and Framework\n",
        "\n",
        "!pip install -q --upgrade simpletransformers\n",
        "!pip install -q torch==2.3.0 torchvision==0.18.0 torchaudio==2.3.0 --index-url https://download.pytorch.org/whl/cu\n",
        "#!pip install -q torch torchvision torchaudio --index-url https://download.pytorch.org/whl/cu118\n",
        "import torch\n",
        "import torchvision\n",
        "print(torch.__version__)\n",
        "print(torchvision.__version__)\n",
        "\n"
      ]
    },
    {
      "cell_type": "code",
      "source": [
        "#import Library\n",
        "\n",
        "from sklearn.metrics import f1_score\n",
        "from simpletransformers.classification import ClassificationModel, ClassificationArgs\n",
        "\n",
        "import pandas as pd\n",
        "import numpy as np\n",
        "\n"
      ],
      "metadata": {
        "id": "Ug6fBIDZQYJH"
      },
      "execution_count": null,
      "outputs": []
    },
    {
      "cell_type": "markdown",
      "source": [
        "## EDA on the Dataset"
      ],
      "metadata": {
        "id": "ED--i95_Y2yR"
      }
    },
    {
      "cell_type": "code",
      "source": [
        "# Import Dataset\n",
        "\n",
        "!git clone https://github.com/GregaVrbancic/Phishing-Dataset.git\n"
      ],
      "metadata": {
        "id": "wFc4SeLoYadx"
      },
      "execution_count": null,
      "outputs": []
    },
    {
      "cell_type": "code",
      "source": [
        "data = pd.read_csv(\"/content/Phishing-Dataset/dataset_small.csv\")\n",
        "data.head()"
      ],
      "metadata": {
        "id": "oSifD3ygY0uR"
      },
      "execution_count": null,
      "outputs": []
    },
    {
      "cell_type": "code",
      "source": [
        "data.shape"
      ],
      "metadata": {
        "id": "4eaTGsj8ZIZi"
      },
      "execution_count": null,
      "outputs": []
    },
    {
      "cell_type": "markdown",
      "source": [
        "### Checking NULL data"
      ],
      "metadata": {
        "id": "L_DC9B31ZQN7"
      }
    },
    {
      "cell_type": "code",
      "source": [
        "nulldata = data.isnull().sum()\n",
        "nulldata[nulldata>0]\n",
        "print(f'Total Null is: {nulldata.sum()}')"
      ],
      "metadata": {
        "id": "Qt9xptR1ZScn"
      },
      "execution_count": null,
      "outputs": []
    },
    {
      "cell_type": "code",
      "source": [
        "x = data.drop(columns = 'phishing')\n",
        "y = data[['phishing']]\n",
        "x.shape, y.shape\n"
      ],
      "metadata": {
        "id": "c27NWVZxZXJC"
      },
      "execution_count": null,
      "outputs": []
    },
    {
      "cell_type": "code",
      "source": [
        "y.head(20)"
      ],
      "metadata": {
        "id": "Bo3Atuz7e1zp"
      },
      "execution_count": null,
      "outputs": []
    },
    {
      "cell_type": "markdown",
      "source": [
        "## Split Dataset into TRAIN, TEST"
      ],
      "metadata": {
        "id": "NyULDi9yZdfQ"
      }
    },
    {
      "cell_type": "code",
      "source": [
        "from sklearn.model_selection import train_test_split\n",
        "x_train, x_test, y_train, y_test = train_test_split(x,y, test_size = 0.2, random_state = 99)\n",
        "x_train.shape, x_test.shape, y_train.shape, y_test.shape\n",
        "\n",
        "\n",
        "# Print unique labels BEFORE mapping to check what labels exist\n",
        "print(y_train['phishing'].unique())\n",
        "\n",
        "# Make sure to include ALL unique labels in your y_train['phishing'] column\n",
        "# Ensure all labels are mapped to either 0 or 1\n",
        "label_map = {'your_current_label_1': 0, 'your_current_label_2': 1, 'other_label': 0, '5':0, '11': 0, '20': 1, '2': 0} # Add other labels as needed\n",
        "y_train['phishing'] = y_train['phishing'].map(label_map)\n",
        "\n",
        "# Fill NaN values with a suitable default (e.g., 0)\n",
        "y_train['phishing'] = y_train['phishing'].fillna(0)  # Replace NaN with 0\n",
        "\n",
        "# Verify that all labels are now 0 or 1 and NaN is handled\n",
        "print(y_train['phishing'].unique())\n",
        "print(x_train.columns)"
      ],
      "metadata": {
        "id": "XYwiPFOnZpst"
      },
      "execution_count": null,
      "outputs": []
    },
    {
      "cell_type": "code",
      "source": [
        "# Create an instance of ClassificationArgs to specify model training configuration.\n",
        "model_args = ClassificationArgs()\n",
        "\n",
        "# Set the flag to train only custom parameters (not pre-trained ones).\n",
        "model_args.train_custom_parameters_only = True\n",
        "\n",
        "# Add num_labels to model_args to match your dataset\n",
        "model_args.num_labels = 2  # Assuming your phishing dataset has two classes (phishing and not phishing)\n",
        "\n",
        "# Define custom parameter groups, each with specific learning rates and weight decay.\n",
        "custom_parameter_groups = [\n",
        "    {\n",
        "        \"params\": [\"classifier.weight\"],  # Specify which parameter(s) to include in this group.\n",
        "        \"lr\": 1e-3,  # Learning rate for this group.\n",
        "    },\n",
        "    {\n",
        "        \"params\": [\"classifier.bias\"],  # Specify another parameter group for classifier bias.\n",
        "        \"lr\": 1e-3,  # Learning rate for this group.\n",
        "        \"weight_decay\": 0.0,  # Specify weight decay for this group (0.0 in this case).\n",
        "    },\n",
        "]\n",
        "\n",
        "# Create a copy of the list and assign it to model_args\n",
        "model_args.custom_parameter_groups = custom_parameter_groups.copy()\n",
        "\n",
        "# Enable CUDA for GPU acceleration (if available).\n",
        "#model_args.use_cuda = False\n",
        "model_args.use_multiprocessing = False\n",
        "\n",
        "# Create a ClassificationModel using the \"bert\" architecture and \"bert-base-uncased\" pre-trained model.\n",
        "# Pass the model_args to configure the training settings.\n",
        "model = ClassificationModel(\"bert\", \"bert-base-uncased\", args=model_args, use_cuda=False)"
      ],
      "metadata": {
        "id": "8wJd35NMWShI"
      },
      "execution_count": null,
      "outputs": []
    },
    {
      "cell_type": "code",
      "source": [
        "# Train the model\n",
        "model.train_model(x_train, y_train)\n"
      ],
      "metadata": {
        "id": "2sWWGNy5WWIc"
      },
      "execution_count": null,
      "outputs": []
    },
    {
      "cell_type": "code",
      "source": [
        "# The following line is evaluating the model on the test dataset (y_test) and storing the results in three variables.\n",
        "# 1. 'result' will contain various evaluation metrics like accuracy, F1-score, etc.\n",
        "# 2. 'model_outputs' will contain the model's predicted outputs for each example in the test dataset.\n",
        "# 3. 'wrong_predictions' may contain the examples that the model predicted incorrectly (if applicable).\n",
        "\n",
        "result, model_outputs, wrong_predictions = model.eval_model(y_test, f1=f1_score)\n",
        "y_pred = np.argmax(model_outputs, axis=1)\n"
      ],
      "metadata": {
        "id": "Tm1jhUMOWbTd"
      },
      "execution_count": null,
      "outputs": []
    },
    {
      "cell_type": "code",
      "source": [
        "# Get the reports\n",
        "\n",
        "from sklearn.metrics import classification_report\n",
        "print(classification_report(y_test, y_pred)"
      ],
      "metadata": {
        "id": "7v5m4ZeOWc10"
      },
      "execution_count": null,
      "outputs": []
    },
    {
      "cell_type": "markdown",
      "source": [
        "## Conclusion\n",
        "\n",
        "In conclusion, the integration of machine learning techniques into cybersecurity measures is not just beneficial but essential in the current digital age. Our project, \"Phishing Detection Leveraging Transformer and PyTorch,\" demonstrates the effectiveness of using advanced Transformer models within the PyTorch framework to combat phishing threats. With an impressive accuracy of 90.1%, this model highlights the potential of machine learning to adapt to evolving phishing techniques and provide robust defenses. By detecting threats in real-time and extracting valuable insights from vast datasets, we can anticipate and prevent future attacks, ensuring a safer online environment for all. As we continue to explore and refine these technologies, leveraging both traditional algorithms and cutting-edge models like Transformers, the prospects for enhancing cybersecurity remain promising.\n",
        "\n",
        "\n",
        "\n",
        "\n",
        "\n",
        "\n"
      ],
      "metadata": {
        "id": "SSJaRnUdWml_"
      }
    }
  ]
}